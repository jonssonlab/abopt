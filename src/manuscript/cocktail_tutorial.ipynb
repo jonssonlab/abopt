{
 "cells": [
  {
   "cell_type": "markdown",
   "id": "united-induction",
   "metadata": {},
   "source": [
    "Tutorial for Manuscript Cocktail"
   ]
  },
  {
   "cell_type": "markdown",
   "id": "foster-ladder",
   "metadata": {},
   "source": [
    "Import Statements"
   ]
  },
  {
   "cell_type": "code",
   "execution_count": null,
   "id": "medium-cabin",
   "metadata": {},
   "outputs": [],
   "source": [
    "import sys\n",
    "sys.path.insert(1, '/Users/vjonsson/Google Drive/data/repository/abopt/src/pipeline')\n",
    " \n",
    "import cocktail\n",
    "import numpy as np \n",
    "\n",
    "import itertools as it \n",
    "import pandas as pd\n",
    "import seaborn as sb \n",
    "import matplotlib.pyplot as plt\n",
    "import matplotlib as mpl \n",
    "import colors "
   ]
  },
  {
   "cell_type": "code",
   "execution_count": null,
   "id": "periodic-retreat",
   "metadata": {},
   "outputs": [],
   "source": [
    "cocktail.create_output_structure(output_dir ='../../')\n",
    "coverage = np.arange(start =0.06, stop=0.55, step = 0.01)"
   ]
  },
  {
   "cell_type": "markdown",
   "id": "light-boring",
   "metadata": {},
   "source": [
    "Filenames for virus and antibody fitness landscapes "
   ]
  },
  {
   "cell_type": "code",
   "execution_count": null,
   "id": "antique-future",
   "metadata": {},
   "outputs": [],
   "source": [
    "ligand1_fitness = '../../output/merge/rbd_ab_fitness_opt.csv'\n",
    "ligand2_fitness = '../../output/merge/rbd_ace2_fitness.csv'"
   ]
  },
  {
   "cell_type": "code",
   "execution_count": null,
   "id": "monthly-screen",
   "metadata": {},
   "outputs": [],
   "source": [
    "numsims = 1"
   ]
  },
  {
   "cell_type": "markdown",
   "id": "precious-frank",
   "metadata": {},
   "source": [
    "Ranges for gamma1 and gamma2 parameter values for cocktail algorithm "
   ]
  },
  {
   "cell_type": "code",
   "execution_count": null,
   "id": "psychological-shore",
   "metadata": {},
   "outputs": [],
   "source": [
    "gamma1 = np.logspace(start=-3 , stop=12, num=60, endpoint=True, base=2.0)\n",
    "gamma2 = np.logspace(start=-3 , stop=8, num=60, endpoint=True, base=2.0)"
   ]
  },
  {
   "cell_type": "markdown",
   "id": "single-netherlands",
   "metadata": {},
   "source": [
    "The number of simulations with added noise"
   ]
  },
  {
   "cell_type": "code",
   "execution_count": null,
   "id": "numerous-trust",
   "metadata": {},
   "outputs": [],
   "source": [
    "noise_sims = 0"
   ]
  },
  {
   "cell_type": "markdown",
   "id": "complete-professional",
   "metadata": {},
   "source": [
    "Run the simulation given the ligand1 and ligand2 fitness landscapes\n",
    "gamma1, gamma2: Ranges for gamma1 and gamma2 parameter values for cocktail algorithm \n",
    "coverage: a minimum desired virus mutation coverage\n",
    "noise_sims:  number of simulations with added noise\n",
    "algorithm: algorithm choice A1, the only choice for now"
   ]
  },
  {
   "cell_type": "code",
   "execution_count": null,
   "id": "hybrid-ordinance",
   "metadata": {},
   "outputs": [],
   "source": [
    "cocktails = cocktail.run_simulations(ligand1_fitness, ligand2_fitness, coverage,gamma1, gamma2, noise_sims=noise_sims, algorithm = 'A1')"
   ]
  },
  {
   "cell_type": "code",
   "execution_count": null,
   "id": "sensitive-design",
   "metadata": {},
   "outputs": [],
   "source": [
    "data = pd.read_csv('../../output/cocktail/cocktails_allsims.csv') # all simulations\n",
    "nabs = 14"
   ]
  },
  {
   "cell_type": "markdown",
   "id": "reserved-shopper",
   "metadata": {},
   "source": [
    "Rename the cocktails to unique names "
   ]
  },
  {
   "cell_type": "code",
   "execution_count": null,
   "id": "documentary-degree",
   "metadata": {},
   "outputs": [],
   "source": [
    "data = cocktail.rename_cocktails(data, nabs)\n",
    "ab_names = data.columns[0:nabs]"
   ]
  },
  {
   "cell_type": "markdown",
   "id": "caring-history",
   "metadata": {},
   "source": [
    "Calculate properties of cocktails, including virus coverage, and optimal cocktails"
   ]
  },
  {
   "cell_type": "code",
   "execution_count": null,
   "id": "spare-december",
   "metadata": {},
   "outputs": [],
   "source": [
    "abdf, vdf = cocktail.import_fitness_landscapes(ligand1_fitness, ligand2_fitness)"
   ]
  },
  {
   "cell_type": "markdown",
   "id": "equal-chart",
   "metadata": {},
   "source": [
    "Format this for graphing"
   ]
  },
  {
   "cell_type": "code",
   "execution_count": null,
   "id": "recognized-moment",
   "metadata": {},
   "outputs": [],
   "source": [
    "data['cov'] = data['cov'].round(2)\n",
    "data['num_abs'] = data['num_abs'].round(0).astype(int)\n",
    "labels = ['$\\gamma_1$','$\\gamma_2$']\n",
    "cols = ['gamma1','gamma2']\n",
    "dict = dict(zip(cols, labels))\n",
    "data = data.rename(columns=dict)"
   ]
  },
  {
   "cell_type": "markdown",
   "id": "heard-skiing",
   "metadata": {},
   "source": [
    "Optimal antibodies"
   ]
  },
  {
   "cell_type": "code",
   "execution_count": null,
   "id": "identical-romantic",
   "metadata": {},
   "outputs": [],
   "source": [
    "opt_cocktails = data.loc[data.isopt ==True].drop_duplicates(['cocktail_str',  'cov' , 'pc_cov']).sort_values('cov', ascending=False )"
   ]
  },
  {
   "cell_type": "markdown",
   "id": "industrial-trinity",
   "metadata": {},
   "source": [
    "Label cocktails"
   ]
  },
  {
   "cell_type": "code",
   "execution_count": null,
   "id": "loose-legend",
   "metadata": {},
   "outputs": [],
   "source": [
    "opt_cocktails = cocktail.label_cocktails(opt_cocktails)\n",
    "print(opt_cocktails)"
   ]
  },
  {
   "cell_type": "markdown",
   "id": "opponent-spotlight",
   "metadata": {},
   "source": [
    "Graph heatmap of ab cocktail mixes"
   ]
  },
  {
   "cell_type": "code",
   "execution_count": null,
   "id": "developed-firmware",
   "metadata": {},
   "outputs": [],
   "source": [
    "cocktail.graph_cocktail_coverage(opt_cocktails)\n",
    "cocktail.graph_cocktail_mixes(opt_cocktails, antibody_list = ab_names)\n",
    "cocktail.graph_cocktail_landscape(cocktails=opt_cocktails[ab_names], fitness_landscape=abdf)\n",
    "cocktail.graph_simulation_properties(cocktails =data)"
   ]
  },
  {
   "cell_type": "markdown",
   "id": "binding-surgeon",
   "metadata": {},
   "source": [
    "Perturb fitness landscape given number of simulations"
   ]
  },
  {
   "cell_type": "code",
   "execution_count": 1,
   "id": "assumed-chinese",
   "metadata": {},
   "outputs": [
    {
     "ename": "NameError",
     "evalue": "name 'cocktail' is not defined",
     "output_type": "error",
     "traceback": [
      "\u001b[0;31m---------------------------------------------------------------------------\u001b[0m",
      "\u001b[0;31mNameError\u001b[0m                                 Traceback (most recent call last)",
      "\u001b[0;32m<ipython-input-1-f8a827437938>\u001b[0m in \u001b[0;36m<module>\u001b[0;34m\u001b[0m\n\u001b[1;32m      1\u001b[0m \u001b[0mnsims\u001b[0m \u001b[0;34m=\u001b[0m \u001b[0;36m50\u001b[0m\u001b[0;34m\u001b[0m\u001b[0;34m\u001b[0m\u001b[0m\n\u001b[1;32m      2\u001b[0m \u001b[0mperturbation\u001b[0m \u001b[0;34m=\u001b[0m \u001b[0;34m'additive'\u001b[0m\u001b[0;34m\u001b[0m\u001b[0;34m\u001b[0m\u001b[0m\n\u001b[0;32m----> 3\u001b[0;31m \u001b[0mperturbed_landscape\u001b[0m \u001b[0;34m=\u001b[0m \u001b[0mcocktail\u001b[0m\u001b[0;34m.\u001b[0m\u001b[0mperturb_fitness_landscape\u001b[0m\u001b[0;34m(\u001b[0m\u001b[0mfitness\u001b[0m\u001b[0;34m=\u001b[0m\u001b[0mabdf\u001b[0m\u001b[0;34m,\u001b[0m \u001b[0mnsims\u001b[0m\u001b[0;34m=\u001b[0m\u001b[0mnsims\u001b[0m\u001b[0;34m,\u001b[0m \u001b[0mperturbation\u001b[0m\u001b[0;34m=\u001b[0m\u001b[0;34m'additive'\u001b[0m\u001b[0;34m)\u001b[0m\u001b[0;34m\u001b[0m\u001b[0;34m\u001b[0m\u001b[0m\n\u001b[0m\u001b[1;32m      4\u001b[0m \u001b[0mcocktail_landscape\u001b[0m \u001b[0;34m=\u001b[0m \u001b[0mcocktail\u001b[0m\u001b[0;34m.\u001b[0m\u001b[0mcompute_cocktail_fitness_landscape\u001b[0m\u001b[0;34m(\u001b[0m\u001b[0mcocktails\u001b[0m \u001b[0;34m=\u001b[0m \u001b[0mopt_cocktails\u001b[0m\u001b[0;34m[\u001b[0m\u001b[0mab_names\u001b[0m\u001b[0;34m]\u001b[0m\u001b[0;34m,\u001b[0m \u001b[0mfitness_landscape\u001b[0m \u001b[0;34m=\u001b[0m \u001b[0mabdf\u001b[0m\u001b[0;34m)\u001b[0m\u001b[0;34m\u001b[0m\u001b[0;34m\u001b[0m\u001b[0m\n\u001b[1;32m      5\u001b[0m \u001b[0mperturbed_landscape\u001b[0m \u001b[0;34m=\u001b[0m \u001b[0mpd\u001b[0m\u001b[0;34m.\u001b[0m\u001b[0mread_csv\u001b[0m\u001b[0;34m(\u001b[0m\u001b[0;34m'../../output/cocktail/perturbed_landscape_'\u001b[0m \u001b[0;34m+\u001b[0m \u001b[0mperturbation\u001b[0m \u001b[0;34m+\u001b[0m \u001b[0;34m'.csv'\u001b[0m\u001b[0;34m)\u001b[0m\u001b[0;34m\u001b[0m\u001b[0;34m\u001b[0m\u001b[0m\n",
      "\u001b[0;31mNameError\u001b[0m: name 'cocktail' is not defined"
     ]
    }
   ],
   "source": [
    "nsims = 50\n",
    "perturbation = 'additive'\n",
    "perturbed_landscape = cocktail.perturb_fitness_landscape(fitness=abdf, nsims=nsims, perturbation='additive')\n",
    "cocktail_landscape = cocktail.compute_cocktail_fitness_landscape(cocktails = opt_cocktails[ab_names], fitness_landscape = abdf)\n",
    "perturbed_landscape = pd.read_csv('../../output/cocktail/perturbed_landscape_' + perturbation + '.csv')"
   ]
  },
  {
   "cell_type": "code",
   "execution_count": null,
   "id": "specific-treasure",
   "metadata": {},
   "outputs": [],
   "source": []
  }
 ],
 "metadata": {
  "kernelspec": {
   "display_name": "Python 3",
   "language": "python",
   "name": "python3"
  },
  "language_info": {
   "codemirror_mode": {
    "name": "ipython",
    "version": 3
   },
   "file_extension": ".py",
   "mimetype": "text/x-python",
   "name": "python",
   "nbconvert_exporter": "python",
   "pygments_lexer": "ipython3",
   "version": "3.9.5"
  }
 },
 "nbformat": 4,
 "nbformat_minor": 5
}
