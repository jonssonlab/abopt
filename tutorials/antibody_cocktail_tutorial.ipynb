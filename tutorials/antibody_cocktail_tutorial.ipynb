{
 "cells": [
  {
   "cell_type": "code",
   "execution_count": 1,
   "id": "05660fd8",
   "metadata": {},
   "outputs": [],
   "source": [
    "## Given an antibody fitness landscape and virus landscape run the algorithm and ouptut combinations \n",
    "## See code in manuscript/main_cocktail.py"
   ]
  },
  {
   "cell_type": "code",
   "execution_count": null,
   "id": "d93056c1",
   "metadata": {},
   "outputs": [],
   "source": []
  }
 ],
 "metadata": {
  "kernelspec": {
   "display_name": "Python 3 (ipykernel)",
   "language": "python",
   "name": "python3"
  },
  "language_info": {
   "codemirror_mode": {
    "name": "ipython",
    "version": 3
   },
   "file_extension": ".py",
   "mimetype": "text/x-python",
   "name": "python",
   "nbconvert_exporter": "python",
   "pygments_lexer": "ipython3",
   "version": "3.9.1"
  }
 },
 "nbformat": 4,
 "nbformat_minor": 5
}
