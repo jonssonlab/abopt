{
 "cells": [
  {
   "cell_type": "code",
   "execution_count": 1,
   "id": "64fc4c4e",
   "metadata": {},
   "outputs": [],
   "source": [
    "## Import list of IC50s and antibody sequences \n",
    "## Run satlasso and output features.  \n",
    "## Graph all features\n",
    "## Output figures a, c, d from Figure 2 paper. \n"
   ]
  },
  {
   "cell_type": "code",
   "execution_count": null,
   "id": "25120138",
   "metadata": {},
   "outputs": [],
   "source": []
  }
 ],
 "metadata": {
  "kernelspec": {
   "display_name": "Python 3 (ipykernel)",
   "language": "python",
   "name": "python3"
  },
  "language_info": {
   "codemirror_mode": {
    "name": "ipython",
    "version": 3
   },
   "file_extension": ".py",
   "mimetype": "text/x-python",
   "name": "python",
   "nbconvert_exporter": "python",
   "pygments_lexer": "ipython3",
   "version": "3.9.1"
  }
 },
 "nbformat": 4,
 "nbformat_minor": 5
}
