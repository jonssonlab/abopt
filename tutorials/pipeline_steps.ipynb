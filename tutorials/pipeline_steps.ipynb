{
 "cells": [
  {
   "cell_type": "markdown",
   "metadata": {},
   "source": [
    "# abopt"
   ]
  },
  {
   "cell_type": "markdown",
   "metadata": {},
   "source": [
    "## 0. Import"
   ]
  },
  {
   "cell_type": "code",
   "execution_count": null,
   "metadata": {},
   "outputs": [],
   "source": [
    "import os, sys\n",
    "\n",
    "import numpy as np\n",
    "import pandas as pd\n",
    "\n",
    "import abopt"
   ]
  },
  {
   "cell_type": "markdown",
   "metadata": {},
   "source": [
    "## 1. Estimator"
   ]
  },
  {
   "cell_type": "code",
   "execution_count": null,
   "metadata": {},
   "outputs": [],
   "source": [
    "## Read in the data\n",
    "datapath = \"../data/estimator/\"\n",
    "filename = \"NeutSeqData_VH3-53_66_aligned.csv\"\n",
    "df = pd.read_csv(os.path.join(datapath, filename), sep=\",\", header=0)"
   ]
  },
  {
   "cell_type": "code",
   "execution_count": null,
   "metadata": {},
   "outputs": [],
   "source": [
    "## Inspect dataframe\n",
    "df.head()"
   ]
  },
  {
   "cell_type": "code",
   "execution_count": null,
   "metadata": {},
   "outputs": [],
   "source": [
    "## Run estimator to and receive dictionary back with satlasso object, \n",
    "## coefficients, and coefficients mapped back to original sequences of each antibody in training data\n",
    "output_dict = abopt.estimator.fit_estimator(df = df, y_colname = \"IC50_ngml\", \\\n",
    "                           sequence_colname = \"sequence\", id_colname = \"antibody_id\", \\\n",
    "                           lambda1 = 1., lambda2 = 10., lambda3 = 10., \\\n",
    "                           heavy_chain_colname = \"heavy_chain_aligned\", \\\n",
    "                           light_chain_colname = \"light_chain_aligned\", \\\n",
    "                           saturation = \"mode\", map_back = True, cv = 0)"
   ]
  },
  {
   "cell_type": "code",
   "execution_count": null,
   "metadata": {},
   "outputs": [],
   "source": [
    "## Inspect output\n",
    "output_dict.keys()"
   ]
  },
  {
   "cell_type": "code",
   "execution_count": null,
   "metadata": {},
   "outputs": [],
   "source": [
    "## Prepare coefficients dataframes for output (only for conforming to manuscript)\n",
    "coefficients = output_dict[\"Coefficients\"]\n",
    "coefficients.replace(mapper={\"Coefficients\": \"coefficients\"}, axis=1, inplace=True)\n",
    "\n",
    "mapped_coefficients = output_dict[\"Mapped Coefficients\"]\n",
    "mapped_coefficients.replace(mapper={\"Coefficient\": \"coefficient\", \\\n",
    "                                    \"Position\": \"location\", \\\n",
    "                                    \"Chain\": \"chain\", \\\n",
    "                                    \"AA\": \"aa\", \\\n",
    "                                    \"WT\": \"wt\"}, \\\n",
    "                            axis=1, inplace=True)"
   ]
  },
  {
   "cell_type": "code",
   "execution_count": null,
   "metadata": {},
   "outputs": [],
   "source": [
    "## Output coefficients dataframes\n",
    "outpath = \"../output/estimator/\"\n",
    "coefficient_filename = filename[:-4] + \"_coefficients.csv\"\n",
    "mapped_coefficient_filename = filename[:-4] + \"_mapped_coefficients.csv\"\n",
    "\n",
    "coefficients.to_csv(coefficient_filename, sep=\",\", header=True, index=False)\n",
    "mapped_coefficients.to_csv(mapped_coefficient_filename, sep=\",\", header=True, index=True)"
   ]
  },
  {
   "cell_type": "markdown",
   "metadata": {},
   "source": [
    "## 2. Fitness"
   ]
  },
  {
   "cell_type": "code",
   "execution_count": null,
   "metadata": {},
   "outputs": [],
   "source": [
    "## Filenames for virus and antibody fitness landscapes \n",
    "antibody_fitness = '../output/merge/rbd_ab_fitness_opt.csv'\n",
    "virus_fitness = '../output/merge/rbd_ace2_fitness.csv'\n",
    "antibody_metadata = '../data/meta/antibody_list.tsv'"
   ]
  },
  {
   "cell_type": "code",
   "execution_count": null,
   "metadata": {},
   "outputs": [],
   "source": [
    "## Create an antibody fitness landscape from existing fitness data \n",
    "fitdata = abopt.fitness.Fitness(antibody_metadata, antibody_fitness, virus_fitness, antibody_list)"
   ]
  },
  {
   "cell_type": "code",
   "execution_count": null,
   "metadata": {},
   "outputs": [],
   "source": [
    "## Compare antibodies across classes \n",
    "def calculate_antibody_class_differences(fitdata, group_1, group_2, group_3, group_4): \n",
    "\n",
    "    test12 = fitdata.compare_antibody_groups(antibody_group_1 = group_1, antibody_group_2 = group_2)\n",
    "    test13 = fitdata.compare_antibody_groups(antibody_group_1 = group_1, antibody_group_2 = group_3)\n",
    "    test14 = fitdata.compare_antibody_groups(antibody_group_1 = group_1, antibody_group_2 = group_4)\n",
    "    test23 = fitdata.compare_antibody_groups(antibody_group_1 = group_2, antibody_group_2 = group_3)\n",
    "    test24 = fitdata.compare_antibody_groups(antibody_group_1 = group_2, antibody_group_2 = group_4)\n",
    "    test34 = fitdata.compare_antibody_groups(antibody_group_1 = group_3, antibody_group_2 = group_4)\n",
    "\n",
    "\n",
    "    sig = test12.significant | test13.significant | test14.significant | test23.significant | test24.significant | test34.significant\n",
    "    test= pd.concat([test12.fold_change, test13.fold_change, test14.fold_change, test23.fold_change, test24.fold_change, test34.fold_change], axis=1)\n",
    "\n",
    "    test['fc'] = test.max(axis=1).values\n",
    "    test['significant'] = sig\n",
    "    test['location'] =test12.location\n",
    "    \n",
    "    c = test.significant & ((test.fc >=1.25) | (test.fc <= 0.75))\n",
    "    locations = list(test.loc[c].location.values)\n",
    "    \n",
    "    return locations "
   ]
  },
  {
   "cell_type": "code",
   "execution_count": null,
   "metadata": {},
   "outputs": [],
   "source": [
    "## Get the 4 classes of antibodies \n",
    "group_1 = fmt.get_antibodies(class_number='1')\n",
    "group_2 = fmt.get_antibodies(class_number='2')\n",
    "group_3 = fmt.get_antibodies(class_number='3')\n",
    "group_4 = fmt.get_antibodies(class_number='Unknown')\n",
    "\n",
    "locations = calculate_antibody_class_differences(fitdata, group_1, group_2, group_3, group_4)\n",
    "antibodies = group_1 +group_2 + group_3 + group_4 "
   ]
  },
  {
   "cell_type": "code",
   "execution_count": null,
   "metadata": {},
   "outputs": [],
   "source": [
    "## Case study for C105\n",
    "fitdata.remove_antibodies([ab for ab in fitdata.antibodies if ab != 'C105'])\n",
    "\n",
    "pdb_name = fitdata.pdb('C105')"
   ]
  },
  {
   "cell_type": "code",
   "execution_count": null,
   "metadata": {},
   "outputs": [],
   "source": [
    "## Repair antibody/viral receptor original structure, outputs to output/repair \n",
    "fitdata.repair([pdb_name])"
   ]
  },
  {
   "cell_type": "code",
   "execution_count": null,
   "metadata": {},
   "outputs": [],
   "source": [
    "## Remove virus and antibody from WT structure and repair these structures\n",
    "fitdata.remove([pdb_name], chain_type= 'antibody', property='repair')\n",
    "fitdata.remove([pdb_name], chain_type= 'virus', property='repair')\n",
    "\n",
    "pdb_list = [pdb_name + '_Repair', pdb_name + '_Repair_less_ab']"
   ]
  },
  {
   "cell_type": "code",
   "execution_count": null,
   "metadata": {},
   "outputs": [],
   "source": [
    "## Repair these structures \n",
    "fitdata.repair(pdb_list, property='remove')"
   ]
  },
  {
   "cell_type": "code",
   "execution_count": null,
   "metadata": {},
   "outputs": [],
   "source": [
    "## Mutational scanning of C105 repaired pdbs\n",
    "\n",
    "## Construct list of locations to scan '\n",
    "\n",
    "location_file = '../../data/location/SARS_CoV_2_RBD_locations.csv'\n",
    "\n",
    "posscan = fitdata.construct_position_scan_string (pdb_name='C105', location_file=location_file, chain = None, filter= [472,501])\n",
    "pdb_list = [pdb_name + '_Repair', pdb_name + '_Repair_less_ab']\n",
    "\n",
    "fitdata.scan (pdb_list=pdb_list, property='repair', scan_type='location', scan_values=posscan, scan_molecule='virus')"
   ]
  },
  {
   "cell_type": "code",
   "execution_count": null,
   "metadata": {},
   "outputs": [],
   "source": [
    "## Constrain estimator to very large negative of positive coefficients\n",
    "cutoff = 1e-8\n",
    "antibody = 'C105'\n",
    "constrained_coefficients = fitdata.constrain(data_type ='estimator', data_file=mapped_coefficient_filename, antibody=antibody, cutoff = [-cutoff, cutoff], top=1000)"
   ]
  },
  {
   "cell_type": "code",
   "execution_count": null,
   "metadata": {},
   "outputs": [],
   "source": [
    "## Get pdb sequence locations on antibody that are less than 98\n",
    "constrained_coefficients = constrained_coefficients.loc[constrained_coefficients.pdb_location < '98']"
   ]
  },
  {
   "cell_type": "code",
   "execution_count": null,
   "metadata": {},
   "outputs": [],
   "source": [
    "## Compare C105 and C105 optimized\n",
    "antibodies = ['C105', 'C105_TH28I_YH58F']\n",
    "test = fitdata.compare_antibodies(antibody_1 = antibodies[0], antibody_2 = antibodies[1])\n",
    "locations = list(test.loc[test.significant].location.values)"
   ]
  }
 ],
 "metadata": {
  "kernelspec": {
   "display_name": "Python 3",
   "language": "python",
   "name": "python3"
  },
  "language_info": {
   "codemirror_mode": {
    "name": "ipython",
    "version": 3
   },
   "file_extension": ".py",
   "mimetype": "text/x-python",
   "name": "python",
   "nbconvert_exporter": "python",
   "pygments_lexer": "ipython3",
   "version": "3.8.3"
  }
 },
 "nbformat": 4,
 "nbformat_minor": 4
}
