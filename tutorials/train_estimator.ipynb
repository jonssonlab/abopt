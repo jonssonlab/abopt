{
 "cells": [
  {
   "cell_type": "code",
   "execution_count": null,
   "metadata": {},
   "outputs": [],
   "source": [
    "import numpy as np\n",
    "import pandas as pd\n",
    "\n",
    "from abopt.pipeline.estimator import run_estimator"
   ]
  },
  {
   "cell_type": "code",
   "execution_count": null,
   "metadata": {},
   "outputs": [],
   "source": [
    "## Read in the data\n",
    "datapath = \"../data/estimator/NeutSeqData_C002-215_cleaned_aligned.csv\"\n",
    "df = pd.read_csv(datapath, sep=\",\", header=0)"
   ]
  },
  {
   "cell_type": "code",
   "execution_count": null,
   "metadata": {},
   "outputs": [],
   "source": [
    "## Inspect dataframe\n",
    "df.head()"
   ]
  },
  {
   "cell_type": "code",
   "execution_count": null,
   "metadata": {},
   "outputs": [],
   "source": [
    "## Run estimator to and receive dictionary back with satlasso object, \n",
    "## coefficients, and coefficients mapped back to original sequences of each antibody in training data\n",
    "output_dict = estimator.fit_estimator(df = df, y_colname = \"sars_cov_2_ic50_ngml\", \\\n",
    "                           sequence_colname = \"sequence\", id_colname = \"antibody_id\", \\\n",
    "                           lambda1 = 10., lambda2 = 5., lambda3 = 10., \\\n",
    "                           heavy_chain_colname = \"heavy_chain_aligned\", \\\n",
    "                           light_chain_colname = \"light_chain_aligned\", \\\n",
    "                           saturation = \"max\", map_back = True, cv = 0)"
   ]
  }
 ],
 "metadata": {
  "kernelspec": {
   "display_name": "Python 3",
   "language": "python",
   "name": "python3"
  },
  "language_info": {
   "codemirror_mode": {
    "name": "ipython",
    "version": 3
   },
   "file_extension": ".py",
   "mimetype": "text/x-python",
   "name": "python",
   "nbconvert_exporter": "python",
   "pygments_lexer": "ipython3",
   "version": "3.8.3"
  }
 },
 "nbformat": 4,
 "nbformat_minor": 4
}
