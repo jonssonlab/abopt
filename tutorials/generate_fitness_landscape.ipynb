{
 "cells": [
  {
   "cell_type": "code",
   "execution_count": 1,
   "id": "74a1e4e9",
   "metadata": {},
   "outputs": [],
   "source": [
    "## Import antibody and virus fitness landscapes\n",
    "# Generate Figure 3abc\n",
    "\n",
    "## Run FoldX on C105 and C105_T28I_Y58F \n",
    "## Calculate ddG of binding generate figure 3c\n",
    "\n"
   ]
  },
  {
   "cell_type": "code",
   "execution_count": null,
   "id": "23c115c7",
   "metadata": {},
   "outputs": [],
   "source": []
  }
 ],
 "metadata": {
  "kernelspec": {
   "display_name": "Python 3 (ipykernel)",
   "language": "python",
   "name": "python3"
  },
  "language_info": {
   "codemirror_mode": {
    "name": "ipython",
    "version": 3
   },
   "file_extension": ".py",
   "mimetype": "text/x-python",
   "name": "python",
   "nbconvert_exporter": "python",
   "pygments_lexer": "ipython3",
   "version": "3.9.1"
  }
 },
 "nbformat": 4,
 "nbformat_minor": 5
}
